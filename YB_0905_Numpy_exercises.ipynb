{
  "nbformat": 4,
  "nbformat_minor": 5,
  "metadata": {
    "colab": {
      "provenance": [],
      "include_colab_link": true
    },
    "language_info": {
      "name": "python"
    },
    "kernelspec": {
      "name": "python3",
      "display_name": "Python 3"
    }
  },
  "cells": [
    {
      "cell_type": "markdown",
      "metadata": {
        "id": "view-in-github",
        "colab_type": "text"
      },
      "source": [
        "<a href=\"https://colab.research.google.com/github/hanbiphyun/ESSA_YB/blob/main/YB_0905_Numpy_exercises.ipynb\" target=\"_parent\"><img src=\"https://colab.research.google.com/assets/colab-badge.svg\" alt=\"Open In Colab\"/></a>"
      ]
    },
    {
      "cell_type": "markdown",
      "metadata": {
        "id": "78250c14"
      },
      "source": [
        "#### 21. Multiply a 5x3 matrix by a 3x2 matrix (real matrix product) (★☆☆)"
      ],
      "id": "78250c14"
    },
    {
      "cell_type": "code",
      "metadata": {
        "id": "9fe729cb",
        "colab": {
          "base_uri": "https://localhost:8080/"
        },
        "outputId": "71170275-f93d-4ff3-b03a-7530062a25fa"
      },
      "source": [
        "import numpy as np\n",
        "\n",
        "A=np.random.random((5,3))\n",
        "B=np.random.random((3,2))\n",
        "np.dot(A,B)\n",
        "\n",
        "# Alternative solution, in Python 3.5 and above\n",
        "Z = np.ones((5,3)) @ np.ones((3,2))\n",
        "print(Z)"
      ],
      "id": "9fe729cb",
      "execution_count": null,
      "outputs": [
        {
          "output_type": "execute_result",
          "data": {
            "text/plain": [
              "array([[0.63172357, 0.82090712],\n",
              "       [0.3902223 , 0.39516645],\n",
              "       [0.30700053, 0.49004453],\n",
              "       [0.7690585 , 1.09271878],\n",
              "       [0.44830326, 0.79106116]])"
            ]
          },
          "metadata": {},
          "execution_count": 9
        }
      ]
    },
    {
      "cell_type": "markdown",
      "source": [],
      "metadata": {
        "id": "Dc9YlIxOQixC"
      },
      "id": "Dc9YlIxOQixC"
    },
    {
      "cell_type": "markdown",
      "metadata": {
        "id": "51898680"
      },
      "source": [
        "#### 22. Given a 1D array, negate all elements which are between 3 and 8, in place. (★☆☆)"
      ],
      "id": "51898680"
    },
    {
      "cell_type": "code",
      "source": [
        "Z = np.array([0,1,2,3,-4,-5,-6,-7,8,9])\n",
        "Z[(3<np.abs(Z))&(np.abs(Z)<8)]*=-1\n",
        "print(Z)\n",
        "\n",
        "# Author: Evgeni Burovski\n",
        "\n",
        "Z = np.arange(11)\n",
        "Z[(3 < Z) & (Z < 8)] *= -1\n",
        "print(Z)"
      ],
      "metadata": {
        "colab": {
          "base_uri": "https://localhost:8080/"
        },
        "id": "wc9KlLR1paf1",
        "outputId": "8aa414c8-0a5c-4d9b-97e9-b3191a513c79"
      },
      "id": "wc9KlLR1paf1",
      "execution_count": null,
      "outputs": [
        {
          "output_type": "stream",
          "name": "stdout",
          "text": [
            "[0 1 2 3 4 5 6 7 8 9]\n"
          ]
        }
      ]
    },
    {
      "cell_type": "markdown",
      "metadata": {
        "id": "89e78048"
      },
      "source": [
        "#### 23. What is the output of the following script? (★☆☆)\n",
        "```python\n",
        "# Author: Jake VanderPlas\n",
        "\n",
        "print(sum(range(5),-1))\n",
        "from numpy import *\n",
        "print(sum(range(5),-1))\n",
        "```"
      ],
      "id": "89e78048"
    },
    {
      "cell_type": "markdown",
      "source": [
        "9 #start 값이 -1\n",
        "10 #axis=-1 을 따라 합 구하기 1차원 배열에선 axis=0 임"
      ],
      "metadata": {
        "id": "0DkrFvO0lvsh"
      },
      "id": "0DkrFvO0lvsh"
    },
    {
      "cell_type": "markdown",
      "metadata": {
        "id": "ebd10810"
      },
      "source": [
        "#### 24. Consider an integer vector Z, which of these expressions are legal? (★☆☆)\n",
        "```python\n",
        "Z**Z\n",
        "2 << Z >> 2\n",
        "Z <- Z\n",
        "1j*Z\n",
        "Z/1/1\n",
        "Z<Z>Z\n",
        "```"
      ],
      "id": "ebd10810"
    },
    {
      "cell_type": "markdown",
      "source": [
        "Legal\n",
        "\n",
        "Legal #비트 연산\n",
        "\n",
        "Illegal #파이썬에 존재하지 않는 연산자\n",
        "\n",
        "Legal #복소수 연산\n",
        "\n",
        "Legal #나눗셈 연산\n",
        "\n",
        "Illegal #비트 연산으로 해야함 (Z<Z) &(Z>Z)\n",
        "\n",
        "\n",
        "\n"
      ],
      "metadata": {
        "id": "tkKKOmgWmQ9U"
      },
      "id": "tkKKOmgWmQ9U"
    },
    {
      "cell_type": "markdown",
      "metadata": {
        "id": "c0e940f8"
      },
      "source": [
        "#### 25. What are the result of the following expressions? (★☆☆)\n",
        "```python\n",
        "np.array(0) / np.array(0)\n",
        "np.array(0) // np.array(0)\n",
        "np.array([np.nan]).astype(int).astype(float)\n",
        "```"
      ],
      "id": "c0e940f8"
    },
    {
      "cell_type": "markdown",
      "source": [
        "nan #0 나누기 0 정의되지 않음\n",
        "0 #정수 나누기 정의되지 않음\n",
        "[-9.22337204e+18] #int 최솟값을 float으로 변환"
      ],
      "metadata": {
        "id": "H4kCQtOlmdmD"
      },
      "id": "H4kCQtOlmdmD"
    },
    {
      "cell_type": "markdown",
      "metadata": {
        "id": "f1ae2c2d"
      },
      "source": [
        "#### 26. How to find common values between two arrays? (★☆☆)\n",
        "```python\n",
        "Z1 = np.random.randint(0,10,10)\n",
        "Z2 = np.random.randint(0,10,10)\n",
        "```\n",
        "Hint : use `numpy.random.randint(start, end, size)`"
      ],
      "id": "f1ae2c2d"
    },
    {
      "cell_type": "code",
      "source": [
        "Z1 = np.random.randint(0,10,10)\n",
        "Z2 = np.random.randint(0,10,10)\n",
        "np.intersect1d(Z1,Z2)"
      ],
      "metadata": {
        "colab": {
          "base_uri": "https://localhost:8080/"
        },
        "id": "cyBTKMnhtMAm",
        "outputId": "a28026af-f87e-42a8-83de-e13299452e6a"
      },
      "id": "cyBTKMnhtMAm",
      "execution_count": null,
      "outputs": [
        {
          "output_type": "execute_result",
          "data": {
            "text/plain": [
              "array([1, 3, 7, 9])"
            ]
          },
          "metadata": {},
          "execution_count": 8
        }
      ]
    },
    {
      "cell_type": "code",
      "metadata": {
        "id": "6801c73d",
        "colab": {
          "base_uri": "https://localhost:8080/"
        },
        "outputId": "fa4b737b-c745-4a82-ce2e-28c1f61503ac"
      },
      "source": [],
      "id": "6801c73d",
      "execution_count": null,
      "outputs": [
        {
          "output_type": "stream",
          "name": "stdout",
          "text": [
            "Z1: [4 5 8 8 9 8 5 9 9 7]\n",
            "Z2: [6 3 7 7 0 6 0 9 2 7]\n",
            "[7 9]\n"
          ]
        }
      ]
    },
    {
      "cell_type": "markdown",
      "metadata": {
        "id": "37bc0973"
      },
      "source": [
        "#### 27. Is the following expressions true? (★☆☆)\n",
        "```python\n",
        "np.sqrt(-1) == np.emath.sqrt(-1)\n",
        "```"
      ],
      "id": "37bc0973"
    },
    {
      "cell_type": "markdown",
      "source": [
        "/tmp/ipython-input-2520232100.py:1: RuntimeWarning: invalid value encountered in sqrt\n",
        "  np.sqrt(-1) == np.emath.sqrt(-1)   # 결과 : False"
      ],
      "metadata": {
        "id": "z9PUN3fl0CbA"
      },
      "id": "z9PUN3fl0CbA"
    },
    {
      "cell_type": "markdown",
      "source": [
        "False. nan!=1j\n"
      ],
      "metadata": {
        "id": "nObjDabKF2nm"
      },
      "id": "nObjDabKF2nm"
    },
    {
      "cell_type": "code",
      "metadata": {
        "id": "c70cbabe",
        "colab": {
          "base_uri": "https://localhost:8080/",
          "height": 145
        },
        "outputId": "ab08cefd-4ea1-4606-c336-47e8b8829b1d"
      },
      "source": [
        "np.sqrt(-1) == np.emath.sqrt(-1)   # 결과 : False"
      ],
      "id": "c70cbabe",
      "execution_count": 1,
      "outputs": [
        {
          "output_type": "error",
          "ename": "NameError",
          "evalue": "name 'np' is not defined",
          "traceback": [
            "\u001b[0;31m---------------------------------------------------------------------------\u001b[0m",
            "\u001b[0;31mNameError\u001b[0m                                 Traceback (most recent call last)",
            "\u001b[0;32m/tmp/ipython-input-2520232100.py\u001b[0m in \u001b[0;36m<cell line: 0>\u001b[0;34m()\u001b[0m\n\u001b[0;32m----> 1\u001b[0;31m \u001b[0mnp\u001b[0m\u001b[0;34m.\u001b[0m\u001b[0msqrt\u001b[0m\u001b[0;34m(\u001b[0m\u001b[0;34m-\u001b[0m\u001b[0;36m1\u001b[0m\u001b[0;34m)\u001b[0m \u001b[0;34m==\u001b[0m \u001b[0mnp\u001b[0m\u001b[0;34m.\u001b[0m\u001b[0memath\u001b[0m\u001b[0;34m.\u001b[0m\u001b[0msqrt\u001b[0m\u001b[0;34m(\u001b[0m\u001b[0;34m-\u001b[0m\u001b[0;36m1\u001b[0m\u001b[0;34m)\u001b[0m   \u001b[0;31m# 결과 : False\u001b[0m\u001b[0;34m\u001b[0m\u001b[0;34m\u001b[0m\u001b[0m\n\u001b[0m",
            "\u001b[0;31mNameError\u001b[0m: name 'np' is not defined"
          ]
        }
      ]
    },
    {
      "cell_type": "markdown",
      "metadata": {
        "id": "42f8b2f9"
      },
      "source": [
        "#### 28. How to get all the dates corresponding to the month of July 2016? (★★☆)\n",
        "Hint : modify the code below\n",
        "```python\n",
        "Z = np.arange('start', 'end', dtype='datetime64[D]')\n",
        "```"
      ],
      "id": "42f8b2f9"
    },
    {
      "cell_type": "code",
      "source": [
        "import numpy as np\n",
        "\n",
        "Z = np.arange('2016-07', '2016-08', dtype='datetime64[D]')\n",
        "print(Z)"
      ],
      "metadata": {
        "id": "3kkl01x3x0NF",
        "colab": {
          "base_uri": "https://localhost:8080/"
        },
        "outputId": "c8d79050-6852-4caa-ab21-1e6388c452ad"
      },
      "id": "3kkl01x3x0NF",
      "execution_count": 3,
      "outputs": [
        {
          "output_type": "stream",
          "name": "stdout",
          "text": [
            "['2016-07-01' '2016-07-02' '2016-07-03' '2016-07-04' '2016-07-05'\n",
            " '2016-07-06' '2016-07-07' '2016-07-08' '2016-07-09' '2016-07-10'\n",
            " '2016-07-11' '2016-07-12' '2016-07-13' '2016-07-14' '2016-07-15'\n",
            " '2016-07-16' '2016-07-17' '2016-07-18' '2016-07-19' '2016-07-20'\n",
            " '2016-07-21' '2016-07-22' '2016-07-23' '2016-07-24' '2016-07-25'\n",
            " '2016-07-26' '2016-07-27' '2016-07-28' '2016-07-29' '2016-07-30'\n",
            " '2016-07-31']\n"
          ]
        }
      ]
    },
    {
      "cell_type": "markdown",
      "metadata": {
        "id": "252c43e2"
      },
      "source": [
        "#### 29. How to compute ((A+B)*(-A/2)) in place (without copy)? (★★☆)\n",
        "Hint : use `numpy.add`, `numpy.divide`,`numpy.negative`, `numpy.multiply` and parameter `out` of the funtions"
      ],
      "id": "252c43e2"
    },
    {
      "cell_type": "code",
      "metadata": {
        "id": "f06ff615",
        "colab": {
          "base_uri": "https://localhost:8080/"
        },
        "outputId": "5d204a4e-af61-4866-ac8a-fa10a09e5fc7"
      },
      "source": [
        "A = np.ones(3)*1\n",
        "B = np.ones(3)*2\n",
        "np.add(A,B,out=B)\n",
        "np.divide(A,2,out=A)\n",
        "np.negative(A,out=A)\n",
        "np.multiply(A,B,out=A)"
      ],
      "id": "f06ff615",
      "execution_count": 4,
      "outputs": [
        {
          "output_type": "execute_result",
          "data": {
            "text/plain": [
              "array([-1.5, -1.5, -1.5])"
            ]
          },
          "metadata": {},
          "execution_count": 4
        }
      ]
    },
    {
      "cell_type": "markdown",
      "metadata": {
        "id": "486df8ea"
      },
      "source": [
        "#### 30. Extract the integer part of a random array of positive numbers using 2 different methods (★★☆)\n",
        "Hint : `%`, `//`"
      ],
      "id": "486df8ea"
    },
    {
      "cell_type": "code",
      "metadata": {
        "id": "34b4fa08",
        "colab": {
          "base_uri": "https://localhost:8080/"
        },
        "outputId": "16832132-f7da-450a-ddb8-bd23e246a670"
      },
      "source": [
        "arr = np.random.random(5) * 10\n",
        "int_part = arr//1      #소수점 제거\n",
        "print(arr)\n",
        "print(int_part)\n",
        "\n",
        "int_part2 = arr -arr%1  #나머지를 빼서 정수 부분 추출\n",
        "print(arr)\n",
        "print(int_part2)\n",
        "\n",
        "Z = np.random.uniform(0,10,10)\n",
        "\n",
        "print(Z - Z%1)\n",
        "print(Z // 1)\n",
        "\n",
        "# 다른 방법들(2가지 초과이므로 참고만 할 것!)\n",
        "print(np.floor(Z))\n",
        "print(Z.astype(int))\n",
        "print(np.trunc(Z))"
      ],
      "id": "34b4fa08",
      "execution_count": null,
      "outputs": [
        {
          "output_type": "stream",
          "name": "stdout",
          "text": [
            "[4.75538513 3.5788138  9.29968067 8.73575596 5.84063964]\n",
            "[4. 3. 9. 8. 5.]\n",
            "[4. 3. 9. 8. 5.]\n"
          ]
        }
      ]
    },
    {
      "cell_type": "markdown",
      "metadata": {
        "id": "649e89f9"
      },
      "source": [
        "#### 31. Create a 5x5 matrix with row values ranging from 0 to 4 (★★☆)"
      ],
      "id": "649e89f9"
    },
    {
      "cell_type": "code",
      "metadata": {
        "id": "663cc611",
        "colab": {
          "base_uri": "https://localhost:8080/"
        },
        "outputId": "6f99e40b-84ec-4ac8-a153-bb0060de0b88"
      },
      "source": [
        "Z = np.zeros((5,5))\n",
        "Z += np.arange(5)\n",
        "print(Z)\n",
        "\n",
        "# without broadcasting\n",
        "Z = np.tile(np.arange(0, 5), (5,1))\n",
        "print(Z)"
      ],
      "id": "663cc611",
      "execution_count": null,
      "outputs": [
        {
          "output_type": "stream",
          "name": "stdout",
          "text": [
            "[[1 0 1 4 4]\n",
            " [3 0 3 0 0]\n",
            " [1 4 4 3 0]\n",
            " [4 3 4 2 3]\n",
            " [1 3 2 3 3]]\n"
          ]
        }
      ]
    },
    {
      "cell_type": "markdown",
      "metadata": {
        "id": "2d07be1c"
      },
      "source": [
        "#### 32. Create a random vector of size 10 and sort it (★★☆)"
      ],
      "id": "2d07be1c"
    },
    {
      "cell_type": "code",
      "metadata": {
        "id": "4f7cb3ad",
        "colab": {
          "base_uri": "https://localhost:8080/"
        },
        "outputId": "5d341d7d-8daa-40f0-c715-c918b812dca9"
      },
      "source": [
        "A=np.random.random(10)\n",
        "A.sort()\n",
        "print(A)"
      ],
      "id": "4f7cb3ad",
      "execution_count": null,
      "outputs": [
        {
          "output_type": "stream",
          "name": "stdout",
          "text": [
            "[1 8 4 7 8 9 9 9 3 1]\n",
            "[1 1 3 4 7 8 8 9 9 9]\n"
          ]
        }
      ]
    },
    {
      "cell_type": "markdown",
      "metadata": {
        "id": "fe043549"
      },
      "source": [
        "#### 33. Consider two random array A and B, check if they are equal (★★☆)\n",
        "```python\n",
        "A = np.random.randint(0,2,5)\n",
        "B = np.random.randint(0,2,5)\n",
        "```\n",
        "Hint : Use `numpy.array_equal()`"
      ],
      "id": "fe043549"
    },
    {
      "cell_type": "code",
      "metadata": {
        "id": "3326a686",
        "colab": {
          "base_uri": "https://localhost:8080/"
        },
        "outputId": "b4b53ca8-a914-4115-aca9-1ca232507d53"
      },
      "source": [
        "A = np.random.randint(0,2,5)\n",
        "B = np.random.randint(0,2,5)\n",
        "\n",
        "# 방법1 - Assuming identical shape of the arrays and a tolerance for the comparison of values\n",
        "equal = np.allclose(A,B)\n",
        "print(equal)\n",
        "\n",
        "# 방법2 - Checking both the shape and the element values, no tolerance (values have to be exactly equal)\n",
        "equal = np.array_equal(A,B)\n",
        "print(equal)"
      ],
      "id": "3326a686",
      "execution_count": 5,
      "outputs": [
        {
          "output_type": "stream",
          "name": "stdout",
          "text": [
            "False\n",
            "False\n"
          ]
        }
      ]
    },
    {
      "cell_type": "markdown",
      "metadata": {
        "id": "2002cb03"
      },
      "source": [
        "#### 34. Consider a random 10x2 matrix representing cartesian coordinates, convert them to polar coordinates (★★☆)\n",
        "Hint 1 : Note that cartesian coodinate **(x, y)** can be represented as  polar coordinates **(distance from origin to (x,y), angle from the x-axis)**\n",
        "\n",
        "Hint 2 : Use `numpy.sqrt` and `numpy.arctan2`"
      ],
      "id": "2002cb03"
    },
    {
      "cell_type": "code",
      "metadata": {
        "id": "58be72bc"
      },
      "source": [
        "Z = np.random.random((10,2))\n",
        "X,Y = Z[:,0], Z[:,1]\n",
        "R = np.sqrt(X**2+Y**2)\n",
        "T = np.arctan2(Y,X)\n",
        "print(R)\n",
        "print(T)"
      ],
      "id": "58be72bc",
      "execution_count": null,
      "outputs": []
    },
    {
      "cell_type": "markdown",
      "metadata": {
        "id": "b7109c9f"
      },
      "source": [
        "#### 35. Create random vector Z of size 10 and replace the maximum value by 0 (★★☆)\n",
        "Hint : We can see the index of maximum value using `Z.argmax()`"
      ],
      "id": "b7109c9f"
    },
    {
      "cell_type": "code",
      "metadata": {
        "id": "f79e79a7",
        "colab": {
          "base_uri": "https://localhost:8080/"
        },
        "outputId": "bd876a53-41c1-4c50-aba9-63caf1fea744"
      },
      "source": [
        "Z = np.random.random(10)\n",
        "Z[Z.argmax()] = 0\n",
        "print(Z)"
      ],
      "id": "f79e79a7",
      "execution_count": 6,
      "outputs": [
        {
          "output_type": "stream",
          "name": "stdout",
          "text": [
            "[0.         0.45247207 0.48821785 0.14769818 0.96693068 0.25996162\n",
            " 0.00579012 0.85206673 0.91338762 0.37041834]\n"
          ]
        }
      ]
    },
    {
      "cell_type": "markdown",
      "metadata": {
        "id": "e6e1ae2f"
      },
      "source": [
        "#### 36. How to find the closest value (to a given scalar v) in a vector Z? (★★☆)\n",
        "```python\n",
        "Z = np.arange(100)\n",
        "v = np.random.uniform(0,100)\n",
        "```\n",
        "Hint : Coumpute the distances between the each elements of Z and the scalar v. After that, we can see the index of minimum value using `argmin()`.  "
      ],
      "id": "e6e1ae2f"
    },
    {
      "cell_type": "code",
      "source": [
        "Z = np.arange(100)\n",
        "v = np.random.uniform(0,100)\n",
        "index = (np.abs(Z-v)).argmin()     #Z-v의 절댓값의 array의 가장 작은 값의 index return\n",
        "print(Z[index])"
      ],
      "metadata": {
        "id": "QkQ2Mii77FrE",
        "colab": {
          "base_uri": "https://localhost:8080/"
        },
        "outputId": "0ee3c4f6-cba6-4aa3-dc8b-f8aa5bedc922"
      },
      "id": "QkQ2Mii77FrE",
      "execution_count": 7,
      "outputs": [
        {
          "output_type": "stream",
          "name": "stdout",
          "text": [
            "56\n"
          ]
        }
      ]
    },
    {
      "cell_type": "markdown",
      "metadata": {
        "id": "f98713a6"
      },
      "source": [
        "#### 37. What is the equivalent of enumerate for numpy arrays? (★★☆)\n",
        "Hint : Use `numpy.ndenumerate()`or `numpy.ndindex()`\n",
        "\n",
        "Example of the output :\n",
        "```python\n",
        "Z = np.arange(9).reshape(3,3)\n",
        "```\n",
        "```python\n",
        "# output\n",
        "(0, 0) 0\n",
        "(0, 1) 1\n",
        "(0, 2) 2\n",
        "(1, 0) 3\n",
        "(1, 1) 4\n",
        "(1, 2) 5\n",
        "(2, 0) 6\n",
        "(2, 1) 7\n",
        "(2, 2) 8\n",
        "```"
      ],
      "id": "f98713a6"
    },
    {
      "cell_type": "code",
      "metadata": {
        "id": "64795f84",
        "colab": {
          "base_uri": "https://localhost:8080/"
        },
        "outputId": "5a135ae2-fc77-4373-8de9-a1e8169f275b"
      },
      "source": [
        "Z = np.arange(9).reshape(3,3)\n",
        "# 방법1\n",
        "for index, value in np.ndenumerate(Z):\n",
        "    print(index, value)\n",
        "# 방법2\n",
        "for index in np.ndindex(Z.shape):\n",
        "    print(index, Z[index])"
      ],
      "id": "64795f84",
      "execution_count": 9,
      "outputs": [
        {
          "output_type": "stream",
          "name": "stdout",
          "text": [
            "(0, 0) 0\n",
            "(0, 1) 1\n",
            "(0, 2) 2\n",
            "(1, 0) 3\n",
            "(1, 1) 4\n",
            "(1, 2) 5\n",
            "(2, 0) 6\n",
            "(2, 1) 7\n",
            "(2, 2) 8\n",
            "(0, 0) 0\n",
            "(0, 1) 1\n",
            "(0, 2) 2\n",
            "(1, 0) 3\n",
            "(1, 1) 4\n",
            "(1, 2) 5\n",
            "(2, 0) 6\n",
            "(2, 1) 7\n",
            "(2, 2) 8\n"
          ]
        }
      ]
    },
    {
      "cell_type": "markdown",
      "metadata": {
        "id": "0cf413ee"
      },
      "source": [
        "#### 38. How to randomly place p elements in a 2D array? (★★☆)\n",
        "Hint : modify the code below\n",
        "```python\n",
        "n = 'size of a 2D array'\n",
        "p = 'the number of elements that you want to place'\n",
        "Z = np.zeros((n,n))\n",
        "np.put(Z, np.random.choice(range(n*n), p, replace = False),'value that you want to place')\n",
        "print(Z)\n",
        "```"
      ],
      "id": "0cf413ee"
    },
    {
      "cell_type": "code",
      "metadata": {
        "id": "dfc57e06",
        "colab": {
          "base_uri": "https://localhost:8080/"
        },
        "outputId": "4b78b121-0190-4e93-bdbb-bfe42c130d79"
      },
      "source": [
        "# Author: Divakar\n",
        "\n",
        "n = 10\n",
        "p = 3\n",
        "Z = np.zeros((n,n))\n",
        "np.put(Z, np.random.choice(range(n*n), p, replace=False),1)\n",
        "print(Z)"
      ],
      "id": "dfc57e06",
      "execution_count": 8,
      "outputs": [
        {
          "output_type": "stream",
          "name": "stdout",
          "text": [
            "[[0. 0. 0. 0. 0. 0. 0. 0. 0. 0.]\n",
            " [0. 0. 0. 0. 1. 0. 0. 0. 0. 0.]\n",
            " [0. 0. 0. 0. 0. 0. 0. 0. 0. 0.]\n",
            " [0. 0. 0. 0. 0. 0. 0. 0. 0. 0.]\n",
            " [0. 0. 0. 0. 0. 0. 0. 0. 0. 0.]\n",
            " [0. 0. 0. 0. 0. 0. 0. 0. 0. 0.]\n",
            " [0. 0. 0. 0. 0. 0. 0. 0. 0. 0.]\n",
            " [0. 0. 0. 1. 0. 0. 0. 0. 0. 0.]\n",
            " [0. 0. 0. 0. 0. 0. 0. 0. 0. 0.]\n",
            " [0. 0. 0. 0. 0. 0. 1. 0. 0. 0.]]\n"
          ]
        }
      ]
    },
    {
      "cell_type": "markdown",
      "metadata": {
        "id": "c0cf37e0"
      },
      "source": [
        "#### 39. How to sort an array below by the nth column? (★★☆)\n",
        "```python\n",
        "Z = np.random.randint(0,10,(3,3))\n",
        "```"
      ],
      "id": "c0cf37e0"
    },
    {
      "cell_type": "code",
      "metadata": {
        "id": "9336ca5f",
        "colab": {
          "base_uri": "https://localhost:8080/"
        },
        "outputId": "154d1574-1769-4d07-f2ec-7d7bd778e4f7"
      },
      "source": [
        "# column 1\n",
        "Z = np.random.randint(0,10,(3,3))\n",
        "\n",
        "print(Z)\n",
        "print(Z[Z[:,0].argsort()])"
      ],
      "id": "9336ca5f",
      "execution_count": 10,
      "outputs": [
        {
          "output_type": "stream",
          "name": "stdout",
          "text": [
            "[[7 0 9]\n",
            " [1 9 1]\n",
            " [1 7 9]]\n",
            "[[1 9 1]\n",
            " [1 7 9]\n",
            " [7 0 9]]\n"
          ]
        }
      ]
    },
    {
      "cell_type": "code",
      "source": [
        "# column 2\n",
        "print(Z)\n",
        "print(Z[Z[:,1].argsort()])"
      ],
      "metadata": {
        "id": "0hZzZ6tn2K6V",
        "colab": {
          "base_uri": "https://localhost:8080/"
        },
        "outputId": "02622007-0a7c-4159-9da0-83be93b9be01"
      },
      "id": "0hZzZ6tn2K6V",
      "execution_count": 11,
      "outputs": [
        {
          "output_type": "stream",
          "name": "stdout",
          "text": [
            "[[7 0 9]\n",
            " [1 9 1]\n",
            " [1 7 9]]\n",
            "[[7 0 9]\n",
            " [1 7 9]\n",
            " [1 9 1]]\n"
          ]
        }
      ]
    },
    {
      "cell_type": "code",
      "source": [
        "# column 3\n",
        "print(Z)\n",
        "print(Z[Z[:,2].argsort()])"
      ],
      "metadata": {
        "id": "z4zqQXvt2NaB",
        "colab": {
          "base_uri": "https://localhost:8080/"
        },
        "outputId": "a4202577-e5f5-4c6d-ade8-67e321435385"
      },
      "id": "z4zqQXvt2NaB",
      "execution_count": 12,
      "outputs": [
        {
          "output_type": "stream",
          "name": "stdout",
          "text": [
            "[[7 0 9]\n",
            " [1 9 1]\n",
            " [1 7 9]]\n",
            "[[1 9 1]\n",
            " [7 0 9]\n",
            " [1 7 9]]\n"
          ]
        }
      ]
    }
  ]
}